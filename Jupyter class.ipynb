{
 "cells": [
  {
   "cell_type": "markdown",
   "id": "65ad100a",
   "metadata": {},
   "source": [
    "# ESSE é meu título\n",
    "Essa linha cria uma variável `a`."
   ]
  },
  {
   "cell_type": "code",
   "execution_count": 6,
   "id": "6b9e8413",
   "metadata": {},
   "outputs": [
    {
     "data": {
      "text/plain": [
       "2"
      ]
     },
     "execution_count": 6,
     "metadata": {},
     "output_type": "execute_result"
    }
   ],
   "source": [
    "a = 2\n",
    "a"
   ]
  },
  {
   "cell_type": "markdown",
   "id": "318df31c",
   "metadata": {},
   "source": [
    "Essa linha tem o valor da variável `a`em dobro"
   ]
  },
  {
   "cell_type": "code",
   "execution_count": 5,
   "id": "d5b3502a",
   "metadata": {},
   "outputs": [
    {
     "data": {
      "text/plain": [
       "4"
      ]
     },
     "execution_count": 5,
     "metadata": {},
     "output_type": "execute_result"
    }
   ],
   "source": [
    "b = a  * 2\n",
    "b"
   ]
  },
  {
   "cell_type": "markdown",
   "id": "258d1d4a",
   "metadata": {},
   "source": [
    "Essa linha mostra o valor de `a` + `b` "
   ]
  },
  {
   "cell_type": "code",
   "execution_count": 7,
   "id": "c982bd56",
   "metadata": {},
   "outputs": [
    {
     "data": {
      "text/plain": [
       "6"
      ]
     },
     "execution_count": 7,
     "metadata": {},
     "output_type": "execute_result"
    }
   ],
   "source": [
    "a + b"
   ]
  }
 ],
 "metadata": {
  "kernelspec": {
   "display_name": "Python 3 (ipykernel)",
   "language": "python",
   "name": "python3"
  },
  "language_info": {
   "codemirror_mode": {
    "name": "ipython",
    "version": 3
   },
   "file_extension": ".py",
   "mimetype": "text/x-python",
   "name": "python",
   "nbconvert_exporter": "python",
   "pygments_lexer": "ipython3",
   "version": "3.11.2"
  }
 },
 "nbformat": 4,
 "nbformat_minor": 5
}
